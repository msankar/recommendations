{
 "cells": [
  {
   "cell_type": "markdown",
   "metadata": {},
   "source": [
    "# Week3  Session based recommendations using RNN"
   ]
  },
  {
   "cell_type": "markdown",
   "metadata": {},
   "source": [
    "REFERENCE: https://github.com/mquad/sars_tutorial/blob/master/06_PersonalizedRNN.ipynb"
   ]
  },
  {
   "cell_type": "markdown",
   "metadata": {},
   "source": [
    "The two datasets below can be used for code example 1 and/or 2. Code example 1 is implementation of the paper discussed in the LML meeting. Here, u_id can be ignored and next job_listing_id can be predicted merely based on job_listing_ids per session. Code example 2 is also based on Hidasi et al papers form 2016 and 2018, but here user-specific session data can be used. It's up to the coders to pick either of those implementations. Enjoy!\n",
    "\n",
    "Training Dataset: searchml.user_jl_sessions_May2019_train_data\n",
    "Train data contains user sessions with at least 5 applystarts in the month of May. There are 67181 unique users with at least 5 applystarts per session, total counts is 646155. \n",
    "\n",
    "Test Dataset: searchml.user_jl_sessions_June1_5_2019_test_data\n",
    "Test set is generated for the June 1st - 5th 2019 and filtered to the same u_ids as in train data. There are 8144 distinct users, 47986 rows.\n"
   ]
  },
  {
   "cell_type": "code",
   "execution_count": 1,
   "metadata": {},
   "outputs": [],
   "source": [
    "import theano\n",
    "from theano import tensor as T\n",
    "from theano import function\n",
    "from theano.sandbox.rng_mrg import MRG_RandomStreams\n",
    "import numpy as np\n",
    "import pandas as pd\n",
    "from collections import OrderedDict\n",
    "mrng = MRG_RandomStreams()\n",
    "from gpu_ops import gpu_diag_wide\n",
    "\n",
    "import sys\n",
    "\n",
    "sys.path.append('..')\n",
    "\n",
    "import gru4rec\n",
    "import evaluation\n",
    "\n",
    "import baselines\n",
    "import gpu_ops\n"
   ]
  },
  {
   "cell_type": "code",
   "execution_count": 6,
   "metadata": {},
   "outputs": [],
   "source": [
    "# DO ONCE ONLY\n",
    "PATH_TO_DATA = '/Users/malathi.sankar/recommendations/week3/'\n",
    "data_tr = pd.read_csv(PATH_TO_DATA + 'sessions_train.csv', sep=',', usecols=[0,3,4], \n",
    "                     dtype={'job_listing_id': np.int64, 'ts': np.float64})\n",
    "data_tr.columns = [\"SessionId\", \"ItemId\", \"Time\"]\n",
    "data_tr.to_csv(PATH_TO_DATA + 'sessions_train_trimmed.csv', sep=',', index=False)\n",
    "\n",
    "data_test = pd.read_csv(PATH_TO_DATA + 'sessions_test.csv', sep=',', usecols=[0,3,4],\n",
    " dtype={'job_listing_id': np.int64, 'ts': np.float64})\n",
    "data_test.columns = [\"SessionId\", \"ItemId\", \"Time\"]\n",
    "data_test.to_csv(PATH_TO_DATA + 'sessions_test_trimmed.csv', sep=',', index=False)\n"
   ]
  },
  {
   "cell_type": "code",
   "execution_count": 2,
   "metadata": {},
   "outputs": [],
   "source": [
    "\n",
    "PATH_TO_TRAIN = '/Users/malathi.sankar/recommendations/week3/sessions_train_trimmed.csv'\n",
    "PATH_TO_TEST = '/Users/malathi.sankar/recommendations/week3/sessions_test_trimmed.csv'\n",
    "data = pd.read_csv(PATH_TO_TRAIN, sep=',', dtype={'ItemId': np.int64})\n",
    "valid = pd.read_csv(PATH_TO_TEST, sep=',', dtype={'ItemId': np.int64})\n",
    "  "
   ]
  },
  {
   "cell_type": "code",
   "execution_count": 11,
   "metadata": {},
   "outputs": [
    {
     "data": {
      "text/plain": [
       "<bound method NDFrame.head of                                SessionId      ItemId          Time\n",
       "0       00000F4D8B096C00DAFAA17B649D1DDC  3245706208  1.558992e+09\n",
       "1       00000F4D8B096C00DAFAA17B649D1DDC  2900724925  1.558992e+09\n",
       "2       00000F4D8B096C00DAFAA17B649D1DDC  3194578784  1.558994e+09\n",
       "3       00000F4D8B096C00DAFAA17B649D1DDC  3231890821  1.558994e+09\n",
       "4       00000F4D8B096C00DAFAA17B649D1DDC  3151435214  1.558994e+09\n",
       "5       00000F4D8B096C00DAFAA17B649D1DDC  2805386421  1.558994e+09\n",
       "6       00000F4D8B096C00DAFAA17B649D1DDC  3207415566  1.558994e+09\n",
       "7       00000F4D8B096C00DAFAA17B649D1DDC  3194578784  1.558994e+09\n",
       "8       0000CE301774342EEBB3F120844BA114  3153598402  1.558610e+09\n",
       "9       0000CE301774342EEBB3F120844BA114  3236302370  1.558610e+09\n",
       "10      0000CE301774342EEBB3F120844BA114  3098496172  1.558610e+09\n",
       "11      0000CE301774342EEBB3F120844BA114  3198740851  1.558611e+09\n",
       "12      0000CE301774342EEBB3F120844BA114  3237934285  1.558612e+09\n",
       "13      0000CE301774342EEBB3F120844BA114  3237934285  1.558612e+09\n",
       "14      0000CE301774342EEBB3F120844BA114  3238842836  1.558612e+09\n",
       "15      0000CE301774342EEBB3F120844BA114  3231904824  1.558612e+09\n",
       "16      0000CE301774342EEBB3F120844BA114  3242203658  1.558613e+09\n",
       "17      00011140B1E8F945F717C9D67E44F267  3227026628  1.557418e+09\n",
       "18      00011140B1E8F945F717C9D67E44F267  3019070713  1.557418e+09\n",
       "19      00011140B1E8F945F717C9D67E44F267  3214814736  1.557420e+09\n",
       "20      00011140B1E8F945F717C9D67E44F267  3214814736  1.557420e+09\n",
       "21      00011140B1E8F945F717C9D67E44F267  3226986953  1.557421e+09\n",
       "22      00011140B1E8F945F717C9D67E44F267  3207581383  1.557421e+09\n",
       "23      00011140B1E8F945F717C9D67E44F267  3150564913  1.557421e+09\n",
       "24      00012A7BF7B464CAF591F6B6FF65DCD0  3227698660  1.557845e+09\n",
       "25      00012A7BF7B464CAF591F6B6FF65DCD0  3230629171  1.557845e+09\n",
       "26      00012A7BF7B464CAF591F6B6FF65DCD0  3229585253  1.557845e+09\n",
       "27      00012A7BF7B464CAF591F6B6FF65DCD0  3230799339  1.557845e+09\n",
       "28      00012A7BF7B464CAF591F6B6FF65DCD0  3231100269  1.557845e+09\n",
       "29      00012A7BF7B464CAF591F6B6FF65DCD0  3149381589  1.557845e+09\n",
       "...                                  ...         ...           ...\n",
       "646125  FFFC92CBCCF27F2BF051C18B557E8604  2940618270  1.558275e+09\n",
       "646126  FFFC92CBCCF27F2BF051C18B557E8604  3236720491  1.558275e+09\n",
       "646127  FFFC92CBCCF27F2BF051C18B557E8604  3233641563  1.558275e+09\n",
       "646128  FFFC92CBCCF27F2BF051C18B557E8604  2918822714  1.558275e+09\n",
       "646129  FFFC92CBCCF27F2BF051C18B557E8604  3220801625  1.558275e+09\n",
       "646130  FFFC92CBCCF27F2BF051C18B557E8604  3233697623  1.558276e+09\n",
       "646131  FFFCF2E11D0A6CF37674E94A52450B6F  3218248234  1.556797e+09\n",
       "646132  FFFCF2E11D0A6CF37674E94A52450B6F  3218729676  1.556797e+09\n",
       "646133  FFFCF2E11D0A6CF37674E94A52450B6F  3217506843  1.556797e+09\n",
       "646134  FFFCF2E11D0A6CF37674E94A52450B6F  3216635659  1.556797e+09\n",
       "646135  FFFCF2E11D0A6CF37674E94A52450B6F  3218314101  1.556797e+09\n",
       "646136  FFFCF2E11D0A6CF37674E94A52450B6F  3180661715  1.556797e+09\n",
       "646137  FFFD8F0B7C65338A4F75223E604F0B96  3241953224  1.558561e+09\n",
       "646138  FFFD8F0B7C65338A4F75223E604F0B96  3116419074  1.558561e+09\n",
       "646139  FFFD8F0B7C65338A4F75223E604F0B96  3025595727  1.558561e+09\n",
       "646140  FFFD8F0B7C65338A4F75223E604F0B96  3233781924  1.558562e+09\n",
       "646141  FFFD8F0B7C65338A4F75223E604F0B96  3174351401  1.558562e+09\n",
       "646142  FFFD8F0B7C65338A4F75223E604F0B96  3174351401  1.558562e+09\n",
       "646143  FFFEC5DA2826BACA308C14A071944B23  3183427278  1.557120e+09\n",
       "646144  FFFEC5DA2826BACA308C14A071944B23  3218176614  1.557120e+09\n",
       "646145  FFFEC5DA2826BACA308C14A071944B23  3129524273  1.557121e+09\n",
       "646146  FFFEC5DA2826BACA308C14A071944B23  3107239657  1.557121e+09\n",
       "646147  FFFEC5DA2826BACA308C14A071944B23  1436681751  1.557123e+09\n",
       "646148  FFFEC5DA2826BACA308C14A071944B23  3215025141  1.557124e+09\n",
       "646149  FFFF859C10A1E6FB5F187E0CE3444C53  3190580019  1.556799e+09\n",
       "646150  FFFF859C10A1E6FB5F187E0CE3444C53  3190062714  1.556799e+09\n",
       "646151  FFFF859C10A1E6FB5F187E0CE3444C53  3203483287  1.556801e+09\n",
       "646152  FFFF859C10A1E6FB5F187E0CE3444C53  3199398949  1.556801e+09\n",
       "646153  FFFF859C10A1E6FB5F187E0CE3444C53  3208656184  1.556801e+09\n",
       "646154  FFFF859C10A1E6FB5F187E0CE3444C53  3216769530  1.556803e+09\n",
       "\n",
       "[646155 rows x 3 columns]>"
      ]
     },
     "execution_count": 11,
     "metadata": {},
     "output_type": "execute_result"
    }
   ],
   "source": [
    "data.head"
   ]
  },
  {
   "cell_type": "code",
   "execution_count": 8,
   "metadata": {},
   "outputs": [
    {
     "data": {
      "text/plain": [
       "(646155, 3)"
      ]
     },
     "execution_count": 8,
     "metadata": {},
     "output_type": "execute_result"
    }
   ],
   "source": [
    "data.shape"
   ]
  },
  {
   "cell_type": "code",
   "execution_count": 9,
   "metadata": {},
   "outputs": [
    {
     "data": {
      "text/plain": [
       "(47986, 3)"
      ]
     },
     "execution_count": 9,
     "metadata": {},
     "output_type": "execute_result"
    }
   ],
   "source": [
    "valid.shape"
   ]
  },
  {
   "cell_type": "code",
   "execution_count": 10,
   "metadata": {},
   "outputs": [
    {
     "name": "stdout",
     "output_type": "stream",
     "text": [
      "Epoch0\tloss: 0.684163\n",
      "Epoch1\tloss: 0.478654\n",
      "Epoch2\tloss: 0.288830\n",
      "Epoch3\tloss: 0.199518\n",
      "Epoch4\tloss: 0.153353\n",
      "Epoch5\tloss: 0.128884\n",
      "Epoch6\tloss: 0.115895\n",
      "Epoch7\tloss: 0.108556\n",
      "Epoch8\tloss: 0.103890\n",
      "Epoch9\tloss: 0.100833\n",
      "Measuring Recall@20 and MRR@20\n",
      "Recall@20: 0.08554857419043016\n",
      "MRR@20: 0.031932985925742785\n"
     ]
    }
   ],
   "source": [
    "# State-of-the-art results on RSC15 from \"Recurrent Neural Networks with Top-k Gains for \n",
    "#vSession-based Recommendations\" on RSC15 (http://arxiv.org/abs/1706.03847)\n",
    "# BPR-max, no embedding (R@20 = 0.7197, M@20 = 0.3157)\n",
    "gru = gru4rec.GRU4Rec(loss='bpr-max', final_act='elu-0.5', hidden_act='tanh', layers=[100], adapt='adagrad',\n",
    "                      n_epochs=10, batch_size=32, dropout_p_embed=0, dropout_p_hidden=0, learning_rate=0.2,\n",
    "                      momentum=0.3, n_sample=2048, sample_alpha=0, bpreg=1, constrained_embedding=False)\n",
    "gru.fit(data)\n",
    "res = evaluation.evaluate_gpu(gru, valid)\n",
    "print('Recall@20: {}'.format(res[0]))\n",
    "print('MRR@20: {}'.format(res[1]))\n"
   ]
  },
  {
   "cell_type": "code",
   "execution_count": 12,
   "metadata": {},
   "outputs": [
    {
     "name": "stdout",
     "output_type": "stream",
     "text": [
      "Epoch0\tloss: 0.691879\n",
      "Epoch1\tloss: 0.435929\n",
      "Epoch2\tloss: 0.176247\n",
      "Epoch3\tloss: 0.107964\n",
      "Epoch4\tloss: 0.093723\n",
      "Epoch5\tloss: 0.087552\n",
      "Epoch6\tloss: 0.083689\n",
      "Epoch7\tloss: 0.080798\n",
      "Epoch8\tloss: 0.078662\n",
      "Epoch9\tloss: 0.077070\n",
      "Measuring Recall@20 and MRR@20\n",
      "Recall@20: 0.10662155630739488\n",
      "MRR@20: 0.04241912934541998\n"
     ]
    }
   ],
   "source": [
    "# BPR-max, constrained embedding (R@20 = 0.7261, M@20 = 0.3124)\n",
    "gru = gru4rec.GRU4Rec(loss='bpr-max', final_act='elu-0.5', hidden_act='tanh', layers=[100], adapt='adagrad',\n",
    "                      n_epochs=10, batch_size=32, dropout_p_embed=0, dropout_p_hidden=0, learning_rate=0.2,\n",
    "                      momentum=0.1, n_sample=2048, sample_alpha=0, bpreg=0.5, constrained_embedding=True)\n",
    "gru.fit(data)\n",
    "res = evaluation.evaluate_gpu(gru, valid)\n",
    "print('Recall@20: {}'.format(res[0]))\n",
    "print('MRR@20: {}'.format(res[1]))\n"
   ]
  },
  {
   "cell_type": "code",
   "execution_count": 3,
   "metadata": {},
   "outputs": [
    {
     "name": "stdout",
     "output_type": "stream",
     "text": [
      "Epoch0\tloss: 9.139716\n",
      "Epoch1\tloss: 7.656699\n",
      "Epoch2\tloss: 4.575075\n",
      "Epoch3\tloss: 2.122007\n",
      "Epoch4\tloss: 0.624115\n",
      "Epoch5\tloss: 0.213050\n",
      "Epoch6\tloss: 0.134199\n",
      "Epoch7\tloss: 0.107137\n",
      "Epoch8\tloss: 0.094181\n",
      "Epoch9\tloss: 0.090308\n",
      "Measuring Recall@20 and MRR@20\n",
      "Recall@20: 0.051425809569840504\n",
      "MRR@20: 0.024179165527695435\n"
     ]
    }
   ],
   "source": [
    "\n",
    "# Cross-entropy (R@20 = 0.7180, M@20 = 0.3087)\n",
    "gru = gru4rec.GRU4Rec(loss='cross-entropy', final_act='softmax', hidden_act='tanh', layers=[100], adapt='adagrad',\n",
    "                      n_epochs=10, batch_size=32, dropout_p_embed=0, dropout_p_hidden=0.3, learning_rate=0.1,\n",
    "                      momentum=0.7, n_sample=2048, sample_alpha=0, bpreg=0, constrained_embedding=False)\n",
    "gru.fit(data)\n",
    "res = evaluation.evaluate_gpu(gru, valid)\n",
    "print('Recall@20: {}'.format(res[0]))\n",
    "print('MRR@20: {}'.format(res[1]))\n"
   ]
  },
  {
   "cell_type": "markdown",
   "metadata": {},
   "source": [
    "Notrs for MS:\n",
    "MRR = mean reciprocal rank"
   ]
  }
 ],
 "metadata": {
  "kernelspec": {
   "display_name": "Python 3",
   "language": "python",
   "name": "python3"
  },
  "language_info": {
   "codemirror_mode": {
    "name": "ipython",
    "version": 3
   },
   "file_extension": ".py",
   "mimetype": "text/x-python",
   "name": "python",
   "nbconvert_exporter": "python",
   "pygments_lexer": "ipython3",
   "version": "3.7.3"
  }
 },
 "nbformat": 4,
 "nbformat_minor": 2
}
